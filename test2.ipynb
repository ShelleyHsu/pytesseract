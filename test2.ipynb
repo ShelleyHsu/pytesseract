{
 "cells": [
  {
   "cell_type": "code",
   "execution_count": 4,
   "metadata": {},
   "outputs": [],
   "source": [
    "from PIL import Image\n",
    "import pytesseract\n",
    "import cv2\n",
    "import matplotlib.pyplot as plt \n",
    "\n",
    "# ret, binary = cv2.threshold(binary, 250, 255, cv2.THRESH_BINARY)\n",
    "img = cv2.imread('./tests/data/由中央支用者.jpg')\n",
    "img_gray = cv2.cvtColor(img, cv2.COLOR_BGR2GRAY); # 轉換前，都先將圖片轉換成灰階色彩\n",
    "ret, output1 = cv2.threshold(img_gray, 127, 255, cv2.THRESH_BINARY)     # 如果大於 127 就等於 255，反之等於 0。\n",
    "ret, output2 = cv2.threshold(img_gray, 127, 255, cv2.THRESH_BINARY_INV) # 如果大於 127 就等於 0，反之等於 255。\n",
    "ret, output3 = cv2.threshold(img_gray, 127, 255, cv2.THRESH_TRUNC)      # 如果大於 127 就等於 127，反之數值不變。\n",
    "ret, output4 = cv2.threshold(img_gray, 127, 255, cv2.THRESH_TOZERO)     # 如果大於 127 數值不變，反之數值等於 0。\n",
    "ret, output5 = cv2.threshold(img_gray, 127, 255, cv2.THRESH_TOZERO_INV) # 如果大於 127 等於 0，反之數值不變。\n",
    "\n",
    "cv2.imshow('0', img)\n",
    "cv2.imshow('1', output1)\n",
    "cv2.imshow('2', output2)\n",
    "cv2.imshow('3', output3)\n",
    "cv2.imshow('4', output4)\n",
    "cv2.imshow('5', output5)\n",
    "cv2.waitKey(0)    # 按下任意鍵停止\n",
    "\n",
    "cv2.imwrite('./由中央支用者2.jpg', output2)\n",
    "cv2.destroyAllWindows()"
   ]
  }
 ],
 "metadata": {
  "kernelspec": {
   "display_name": "openmmlab",
   "language": "python",
   "name": "python3"
  },
  "language_info": {
   "codemirror_mode": {
    "name": "ipython",
    "version": 3
   },
   "file_extension": ".py",
   "mimetype": "text/x-python",
   "name": "python",
   "nbconvert_exporter": "python",
   "pygments_lexer": "ipython3",
   "version": "3.8.16"
  },
  "orig_nbformat": 4
 },
 "nbformat": 4,
 "nbformat_minor": 2
}
