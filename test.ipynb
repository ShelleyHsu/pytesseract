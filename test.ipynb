{
 "cells": [
  {
   "cell_type": "code",
   "execution_count": 4,
   "metadata": {},
   "outputs": [
    {
     "name": "stdout",
     "output_type": "stream",
     "text": [
      "Hi\n",
      "\n",
      "ee 層 祥 1》 鞠\n",
      "\n",
      "gg NNL\n",
      "\n",
      "有\n",
      "\n",
      "從\n",
      "\n",
      "民 下 計 症 二 月 二\n",
      "\n",
      "大 站 未 之 情 直 室 『 護\n",
      "大 陸 迷 港 難 胞 問題 拉克 鄉 法 」 痰 請 鹽 枋\n",
      "找 要\n",
      "眶 一 所 兩 月 來 大 際 問 愛 大 折 于 它 般 洪 信 計 的 這 =\n",
      "千 人 情況 仍 在 發 展 中 當 地 警察 審 博 為 「 排 法\n",
      "入 卉 」 予 以 拘禁 一 邵 份 章 被 補過 遺 返 眶 區\n",
      "= 大 陸 炎 翁 憫 汶 總 大 六 同 有 閣 雲 政 及 六 公 單 全\n",
      "人 殃 處 理 捧 法 對 經 損 中 央 聯 還 作 小 組 溢 誠\n",
      "採取 左 絢 攜 說\n",
      "這 過 話 常 間 你 與 香港 政府 廢 切 鋒 夫 進 一 縣\n",
      "了 豚 其 真 相\n",
      "『 為 擴大 我 政府 [當 之 號 召 在 宣傳 上 表 示 策\n",
      "極 援 拉 放 實際 度 理 力求 寄 糯 王 顧 及 安 公\n",
      "一 之 泊 只\n",
      "\n",
      "說 說 尖\n",
      "\n",
      "“ 一\n",
      "-\n",
      "\n",
      "\n"
     ]
    }
   ],
   "source": [
    "from PIL import Image\n",
    "import pytesseract\n",
    "pytesseract.pytesseract.tesseract_cmd = r'D:\\安裝的程式\\Tesseract\\\\tesseract.exe'\n",
    "\n",
    "# expectname='總 裁' # 預期值\n",
    "img = Image.open('./57_03_02-2(copy).jpeg')  # 打開圖片\n",
    "\n",
    "# 模式L”為灰色圖像，它的每個像素用8個bit表示，0表示黑，255表示白，其他數字表示不同的灰度。\n",
    "# Img = img.convert('L')\n",
    "\n",
    "# 自定義灰度界限，大於這個值為白色，小於這個值為黑色\n",
    "# for thr in range(256):\n",
    "#     threshold = thr\n",
    "#     table = []\n",
    "#     for i in range(256):\n",
    "#         if i < threshold:\n",
    "#             table.append(1)\n",
    "#         else:\n",
    "#             table.append(0)\n",
    "#     # 圖片二值化\n",
    "#     photo = Img.point(table, '1')\n",
    "#     photo.save(\"binaryzation.jpg\")\n",
    "text = pytesseract.image_to_string(Image.open('./57_03_02-2(copy).jpeg'),lang='chi_tra_vert')\n",
    "    # actualname = text.strip()\n",
    "\n",
    "    # if actualname == expectname:   # 如果 實際值 等於 預期值 則打印成功，跳出循環\n",
    "    #     print(f'閾值為: {thr} 時,OCR識別成功!!結果為:',expectname)\n",
    "    #     break\n",
    "    # else:\n",
    "    #     print(f'閾值為: {thr} 時,識別失敗！結果為:',actualname)\n",
    "print(text)"
   ]
  }
 ],
 "metadata": {
  "kernelspec": {
   "display_name": "Python 3",
   "language": "python",
   "name": "python3"
  },
  "language_info": {
   "codemirror_mode": {
    "name": "ipython",
    "version": 3
   },
   "file_extension": ".py",
   "mimetype": "text/x-python",
   "name": "python",
   "nbconvert_exporter": "python",
   "pygments_lexer": "ipython3",
   "version": "3.10.10"
  },
  "orig_nbformat": 4,
  "vscode": {
   "interpreter": {
    "hash": "6d5c09bc9ab76be35703cdec0554ae54d295ab005b43ef72f6ef500f839e5ddd"
   }
  }
 },
 "nbformat": 4,
 "nbformat_minor": 2
}
