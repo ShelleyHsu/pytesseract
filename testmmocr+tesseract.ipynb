{
 "cells": [
  {
   "cell_type": "code",
   "execution_count": null,
   "metadata": {},
   "outputs": [],
   "source": [
    "from PIL import Image\n",
    "import pytesseract\n",
    "import cv2\n",
    "\n",
    "# 迴圈讀圖\n",
    "img = Image.open('./57_03_02-2(copy).jpeg')\n",
    "\n",
    "# 用cv2轉成灰階\n",
    "img = cv2.imread('./tests/slices/57_03_02-2.jpeg')\n",
    "img_gray = cv2.cvtColor(img, cv2.COLOR_BGR2GRAY); # 轉換前，都先將圖片轉換成灰階色彩\n",
    "ret, output = cv2.threshold(img_gray, 127, 255, cv2.THRESH_BINARY_INV) # 如果大於 127 就等於 0，反之等於 255。\n",
    "\n",
    "# 秀出來確認一下之後另存\n",
    "cv2.imshow('2', output)\n",
    "cv2.imwrite('./57_03_02-2(copy).jpeg', output)\n",
    "# cv2.destroyAllWindows()\n",
    "\n",
    "\n",
    "# 開始辨識字\n",
    "text = pytesseract.image_to_string(Image.open('./57_03_02-2(copy).jpeg'),lang='chi_tra_vert')\n",
    "print(text)\n",
    "\n",
    "# 比對結果\n",
    "# expectname='總 裁' # 預期值\n",
    "\n",
    "# if actualname == expectname:   # 如果 實際值 等於 預期值 則打印成功，跳出循環\n",
    "# print(f'閾值為: {thr} 時,OCR識別成功!!結果為:',expectname)"
   ]
  }
 ],
 "metadata": {
  "language_info": {
   "name": "python"
  },
  "orig_nbformat": 4
 },
 "nbformat": 4,
 "nbformat_minor": 2
}
